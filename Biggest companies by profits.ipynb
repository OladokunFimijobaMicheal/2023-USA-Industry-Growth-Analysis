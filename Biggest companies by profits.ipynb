{
 "cells": [
  {
   "cell_type": "code",
   "execution_count": 2,
   "id": "6e21e60f-c88e-40cd-bf39-a053c03a926d",
   "metadata": {},
   "outputs": [],
   "source": [
    "# importing the libraries\n",
    "from bs4 import BeautifulSoup\n",
    "import requests\n",
    "import pandas as pd"
   ]
  },
  {
   "cell_type": "code",
   "execution_count": 3,
   "id": "92c03494-0238-4021-9860-2798f5a6c4ee",
   "metadata": {},
   "outputs": [],
   "source": [
    "url = 'https://en.wikipedia.org/wiki/List_of_largest_companies_in_the_United_States_by_revenue'"
   ]
  },
  {
   "cell_type": "code",
   "execution_count": 7,
   "id": "4edca54a-0bee-4808-8fd4-5a7533ecb410",
   "metadata": {},
   "outputs": [
    {
     "data": {
      "text/plain": [
       "<Response [200]>"
      ]
     },
     "execution_count": 7,
     "metadata": {},
     "output_type": "execute_result"
    }
   ],
   "source": [
    "page = requests.get(url)"
   ]
  },
  {
   "cell_type": "code",
   "execution_count": 8,
   "id": "a84304e4-91b3-4691-9e06-9ea05f1d4552",
   "metadata": {},
   "outputs": [],
   "source": [
    "soup= BeautifulSoup(page.text,'html')"
   ]
  },
  {
   "cell_type": "code",
   "execution_count": 16,
   "id": "d3563238-e668-40ff-8b05-8d570b2c4bca",
   "metadata": {},
   "outputs": [],
   "source": [
    "table = soup.find_all('table')[3]\n"
   ]
  },
  {
   "cell_type": "code",
   "execution_count": 20,
   "id": "8f4abc0b-230c-4a5c-802c-55abb20c3893",
   "metadata": {},
   "outputs": [],
   "source": [
    "titles = table.find_all('th')\n"
   ]
  },
  {
   "cell_type": "code",
   "execution_count": 21,
   "id": "d215ba7f-656b-4852-bc18-d8bbfd70ae29",
   "metadata": {},
   "outputs": [
    {
     "data": {
      "text/plain": [
       "['Rank', 'Name', 'Industry', 'Profits(USD millions)']"
      ]
     },
     "execution_count": 21,
     "metadata": {},
     "output_type": "execute_result"
    }
   ],
   "source": [
    "table_titles =[title.text.strip() for title in titles ]\n",
    "table_titles"
   ]
  },
  {
   "cell_type": "code",
   "execution_count": 22,
   "id": "1f347de1-641c-4597-b0ea-856b57525fd8",
   "metadata": {},
   "outputs": [
    {
     "data": {
      "text/html": [
       "<div>\n",
       "<style scoped>\n",
       "    .dataframe tbody tr th:only-of-type {\n",
       "        vertical-align: middle;\n",
       "    }\n",
       "\n",
       "    .dataframe tbody tr th {\n",
       "        vertical-align: top;\n",
       "    }\n",
       "\n",
       "    .dataframe thead th {\n",
       "        text-align: right;\n",
       "    }\n",
       "</style>\n",
       "<table border=\"1\" class=\"dataframe\">\n",
       "  <thead>\n",
       "    <tr style=\"text-align: right;\">\n",
       "      <th></th>\n",
       "      <th>Rank</th>\n",
       "      <th>Name</th>\n",
       "      <th>Industry</th>\n",
       "      <th>Profits(USD millions)</th>\n",
       "    </tr>\n",
       "  </thead>\n",
       "  <tbody>\n",
       "  </tbody>\n",
       "</table>\n",
       "</div>"
      ],
      "text/plain": [
       "Empty DataFrame\n",
       "Columns: [Rank, Name, Industry, Profits(USD millions)]\n",
       "Index: []"
      ]
     },
     "execution_count": 22,
     "metadata": {},
     "output_type": "execute_result"
    }
   ],
   "source": [
    "df = pd.DataFrame(columns=table_titles)\n",
    "df"
   ]
  },
  {
   "cell_type": "code",
   "execution_count": 25,
   "id": "4665d904-2783-41a3-ad8c-7646a562d6f2",
   "metadata": {},
   "outputs": [],
   "source": [
    "column_data = table.find_all('tr')\n"
   ]
  },
  {
   "cell_type": "code",
   "execution_count": 26,
   "id": "7201f4cb-ea99-4fcb-aeb6-862c72580d72",
   "metadata": {},
   "outputs": [
    {
     "data": {
      "text/html": [
       "<div>\n",
       "<style scoped>\n",
       "    .dataframe tbody tr th:only-of-type {\n",
       "        vertical-align: middle;\n",
       "    }\n",
       "\n",
       "    .dataframe tbody tr th {\n",
       "        vertical-align: top;\n",
       "    }\n",
       "\n",
       "    .dataframe thead th {\n",
       "        text-align: right;\n",
       "    }\n",
       "</style>\n",
       "<table border=\"1\" class=\"dataframe\">\n",
       "  <thead>\n",
       "    <tr style=\"text-align: right;\">\n",
       "      <th></th>\n",
       "      <th>Rank</th>\n",
       "      <th>Name</th>\n",
       "      <th>Industry</th>\n",
       "      <th>Profits(USD millions)</th>\n",
       "    </tr>\n",
       "  </thead>\n",
       "  <tbody>\n",
       "    <tr>\n",
       "      <th>0</th>\n",
       "      <td>1</td>\n",
       "      <td>Apple</td>\n",
       "      <td>Electronics</td>\n",
       "      <td>99,803</td>\n",
       "    </tr>\n",
       "    <tr>\n",
       "      <th>1</th>\n",
       "      <td>2</td>\n",
       "      <td>Microsoft</td>\n",
       "      <td>Technology</td>\n",
       "      <td>72,738</td>\n",
       "    </tr>\n",
       "    <tr>\n",
       "      <th>2</th>\n",
       "      <td>3</td>\n",
       "      <td>Alphabet</td>\n",
       "      <td>Technology</td>\n",
       "      <td>59,972</td>\n",
       "    </tr>\n",
       "    <tr>\n",
       "      <th>3</th>\n",
       "      <td>4</td>\n",
       "      <td>United States Postal Service</td>\n",
       "      <td>Logistics</td>\n",
       "      <td>56,046</td>\n",
       "    </tr>\n",
       "    <tr>\n",
       "      <th>4</th>\n",
       "      <td>5</td>\n",
       "      <td>ExxonMobil</td>\n",
       "      <td>Petroleum industry</td>\n",
       "      <td>55,740</td>\n",
       "    </tr>\n",
       "    <tr>\n",
       "      <th>5</th>\n",
       "      <td>6</td>\n",
       "      <td>JPMorgan Chase</td>\n",
       "      <td>Financials</td>\n",
       "      <td>37,676</td>\n",
       "    </tr>\n",
       "    <tr>\n",
       "      <th>6</th>\n",
       "      <td>7</td>\n",
       "      <td>Chevron Corporation</td>\n",
       "      <td>Petroleum industry</td>\n",
       "      <td>35,465</td>\n",
       "    </tr>\n",
       "    <tr>\n",
       "      <th>7</th>\n",
       "      <td>8</td>\n",
       "      <td>Pfizer</td>\n",
       "      <td>Pharmaceutical industry</td>\n",
       "      <td>31,372</td>\n",
       "    </tr>\n",
       "    <tr>\n",
       "      <th>8</th>\n",
       "      <td>9</td>\n",
       "      <td>Bank of America</td>\n",
       "      <td>Financials</td>\n",
       "      <td>27,528</td>\n",
       "    </tr>\n",
       "    <tr>\n",
       "      <th>9</th>\n",
       "      <td>10</td>\n",
       "      <td>Meta Platforms</td>\n",
       "      <td>Technology</td>\n",
       "      <td>23,200</td>\n",
       "    </tr>\n",
       "  </tbody>\n",
       "</table>\n",
       "</div>"
      ],
      "text/plain": [
       "  Rank                          Name                 Industry  \\\n",
       "0    1                         Apple              Electronics   \n",
       "1    2                     Microsoft               Technology   \n",
       "2    3                      Alphabet               Technology   \n",
       "3    4  United States Postal Service                Logistics   \n",
       "4    5                    ExxonMobil       Petroleum industry   \n",
       "5    6                JPMorgan Chase               Financials   \n",
       "6    7           Chevron Corporation       Petroleum industry   \n",
       "7    8                        Pfizer  Pharmaceutical industry   \n",
       "8    9               Bank of America               Financials   \n",
       "9   10                Meta Platforms               Technology   \n",
       "\n",
       "  Profits(USD millions)  \n",
       "0                99,803  \n",
       "1                72,738  \n",
       "2                59,972  \n",
       "3                56,046  \n",
       "4                55,740  \n",
       "5                37,676  \n",
       "6                35,465  \n",
       "7                31,372  \n",
       "8                27,528  \n",
       "9                23,200  "
      ]
     },
     "execution_count": 26,
     "metadata": {},
     "output_type": "execute_result"
    }
   ],
   "source": [
    "for row in column_data[1:]:\n",
    "    row_data = row.find_all('td')\n",
    "    rows = [data.text.strip() for data in row_data]\n",
    "    lenght = len(df)\n",
    "    df.loc[lenght] = rows\n",
    "    \n",
    "df"
   ]
  },
  {
   "cell_type": "code",
   "execution_count": 27,
   "id": "df497841-3ea8-464e-ad25-23a76250111e",
   "metadata": {},
   "outputs": [],
   "source": [
    "df.to_csv(r\"C:\\Users\\Apex PC\\Downloads\\USA companies web scraping\\biggest usa companies by profit.csv\")"
   ]
  }
 ],
 "metadata": {
  "kernelspec": {
   "display_name": "Python 3 (ipykernel)",
   "language": "python",
   "name": "python3"
  },
  "language_info": {
   "codemirror_mode": {
    "name": "ipython",
    "version": 3
   },
   "file_extension": ".py",
   "mimetype": "text/x-python",
   "name": "python",
   "nbconvert_exporter": "python",
   "pygments_lexer": "ipython3",
   "version": "3.9.12"
  }
 },
 "nbformat": 4,
 "nbformat_minor": 5
}
